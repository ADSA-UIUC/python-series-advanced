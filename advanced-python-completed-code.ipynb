{
 "cells": [
  {
   "cell_type": "markdown",
   "metadata": {
    "deletable": true,
    "editable": true
   },
   "source": [
    "![ADSA Logo](http://i.imgur.com/BV0CdHZ.png?2 \"ADSA Logo\")"
   ]
  },
  {
   "cell_type": "markdown",
   "metadata": {
    "deletable": true,
    "editable": true
   },
   "source": [
    "# Fall 2017 ADSA Workshop - Python Series: Advanced Python\n",
    "\n",
    "Workshop content is adapted from:\n",
    "* http://python-3-patterns-idioms-test.readthedocs.org/\n",
    "* https://github.com/ehmatthes/intro_programming/\n",
    "* http://github.com/rasbt/python_reference/blob/master/tutorials/sorting_csvs.ipynb\n",
    "* http://www.engr.ucsb.edu/~shell/che210d/numpy.pdf"
   ]
  },
  {
   "cell_type": "markdown",
   "metadata": {
    "deletable": true,
    "editable": true
   },
   "source": [
    "This workshop is a continuation of last week's Introduction to Python workshop and will be focusing on the following topics:\n",
    "* Tuples\n",
    "* Functions\n",
    "* Standard Library Modules\n",
    "    * Math\n",
    "    * fileIO\n",
    "    * CSV\n",
    "* To-do List Project\n",
    "* List functions\n",
    "    * List Slicing\n",
    "    * List Comprehensions\n",
    "* Lambda Functions\n",
    "* Beautiful Soup\n",
    "* Weather Reporting Project"
   ]
  },
  {
   "cell_type": "markdown",
   "metadata": {
    "deletable": true,
    "editable": true
   },
   "source": [
    "## Reviewing Workshop 1: Introduction to Python\n",
    "\n",
    "### Lists and Loops"
   ]
  },
  {
   "cell_type": "code",
   "execution_count": 1,
   "metadata": {
    "collapsed": false,
    "deletable": true,
    "editable": true
   },
   "outputs": [
    {
     "name": "stdout",
     "output_type": "stream",
     "text": [
      "['Eric Idle', 'John Cleese', 'Albert Fry']\n"
     ]
    }
   ],
   "source": [
    "awesome_people = [\"Eric Idle\", \"John Cleese\", \"Albert Fry\"]\n",
    "print(awesome_people)"
   ]
  },
  {
   "cell_type": "markdown",
   "metadata": {
    "deletable": true,
    "editable": true
   },
   "source": [
    "The for statement below will count from 0 to 5 not including 5.\n",
    "The variable 'number' will hold the value of whatever count/iteration it is currently at. Each iteration it will assign 'number' a new value.\n",
    "\n",
    "for statements will end with a colon."
   ]
  },
  {
   "cell_type": "code",
   "execution_count": 2,
   "metadata": {
    "collapsed": false,
    "deletable": true,
    "editable": true
   },
   "outputs": [
    {
     "name": "stdout",
     "output_type": "stream",
     "text": [
      "I am on iteration 0!\n",
      "I am on iteration 1!\n",
      "I am on iteration 2!\n",
      "I am on iteration 3!\n",
      "I am on iteration 4!\n"
     ]
    }
   ],
   "source": [
    "for number in range(0, 5):\n",
    "    print(\"I am on iteration {0}!\".format(number))"
   ]
  },
  {
   "cell_type": "markdown",
   "metadata": {
    "deletable": true,
    "editable": true
   },
   "source": [
    "### Functions\n",
    "\n",
    "#### Declaring Functions"
   ]
  },
  {
   "cell_type": "markdown",
   "metadata": {
    "deletable": true,
    "editable": true
   },
   "source": [
    "Similar to the for statement, function declarations will end with a colon also.\n",
    "\n",
    "The function called format, as you saw above, is used as another way to fill in a print statement with the values of a variable. Format creates a list of elements that can be accessed like this {index_number}. The first element starts at index 0.\n",
    "\n",
    "About function declarations.\n",
    "def: defines or declares a function\n",
    "promote: is the name of the function below\n",
    "(first_name, last_name): The variables inside the parenthesis are the parameters/arguments passed\n",
    "\n",
    "Anything indented will be considered a part of the function"
   ]
  },
  {
   "cell_type": "code",
   "execution_count": 3,
   "metadata": {
    "collapsed": true,
    "deletable": true,
    "editable": true
   },
   "outputs": [],
   "source": [
    "# This function prints a two-line personalized thank you message.\n",
    "def promote(first_name, last_name):\n",
    "    # print() is also a function!\n",
    "    # It prints the string you give it onto the screen.\n",
    "    \n",
    "    # Modify the print statement to include the person's last name.\n",
    "    print('Congratulations! You have been promoted, {0} {1}!'.format(first_name, last_name))\n",
    "    print('You are now qualified to do Advanced Python\\n')"
   ]
  },
  {
   "cell_type": "markdown",
   "metadata": {
    "deletable": true,
    "editable": true
   },
   "source": [
    "We can now call the function we have just defined:"
   ]
  },
  {
   "cell_type": "code",
   "execution_count": 4,
   "metadata": {
    "collapsed": false,
    "deletable": true,
    "editable": true
   },
   "outputs": [
    {
     "name": "stdout",
     "output_type": "stream",
     "text": [
      "Congratulations! You have been promoted, John Cena!\n",
      "You are now qualified to do Advanced Python\n",
      "\n",
      "Congratulations! You have been promoted, Andrew Garfield!\n",
      "You are now qualified to do Advanced Python\n",
      "\n",
      "Congratulations! You have been promoted, FIRST_NAME LAST_NAME!\n",
      "You are now qualified to do Advanced Python\n",
      "\n"
     ]
    }
   ],
   "source": [
    "promote('John', 'Cena')\n",
    "promote('Andrew', 'Garfield')\n",
    "promote('FIRST_NAME', 'LAST_NAME')"
   ]
  },
  {
   "cell_type": "markdown",
   "metadata": {
    "deletable": true,
    "editable": true
   },
   "source": [
    "As you can see, the list called 'mylist' was passed as a parameter for the function addtolist. Any changes to the list called 'ls' inside the function affects 'mylist' outside of the function."
   ]
  },
  {
   "cell_type": "markdown",
   "metadata": {
    "deletable": true,
    "editable": true
   },
   "source": [
    "***\n",
    "## More on Functions\n",
    "\n",
    "### Passing by Reference\n",
    "\n",
    "All parameters in Python are passed by reference and so if you change the parameter inside a called function, the same change occurs in the calling function."
   ]
  },
  {
   "cell_type": "code",
   "execution_count": 5,
   "metadata": {
    "collapsed": false,
    "deletable": true,
    "editable": true
   },
   "outputs": [
    {
     "name": "stdout",
     "output_type": "stream",
     "text": [
      "List before function:  [10, 20, 30]\n",
      "List inside the function:  [10, 20, 30, 99]\n",
      "List after the function:  [10, 20, 30, 99]\n"
     ]
    }
   ],
   "source": [
    "def addtolist(ls):\n",
    "    #This changes a passed list into this function by adding values to it\n",
    "    ls.append(99)\n",
    "    print(\"List inside the function: \", ls)\n",
    "\n",
    "mylist = [10,20,30]\n",
    "print(\"List before function: \", mylist)\n",
    "addtolist(mylist)\n",
    "print(\"List after the function: \", mylist)"
   ]
  },
  {
   "cell_type": "markdown",
   "metadata": {
    "deletable": true,
    "editable": true
   },
   "source": [
    "***\n",
    "## Tuples\n",
    "\n",
    "Pretty much anything you can do with a list, that doesn’t involve modifying it, you can do with tuples. You can specify a tuple without anything, just values separated by commas. You do have the option of putting parenthesis, but you DO NOT have the option of putting square brackets. If square brackets are used, you will create a list and not a tuple."
   ]
  },
  {
   "cell_type": "code",
   "execution_count": 6,
   "metadata": {
    "collapsed": false,
    "deletable": true,
    "editable": true
   },
   "outputs": [
    {
     "name": "stdout",
     "output_type": "stream",
     "text": [
      "96\n",
      "hello\n"
     ]
    }
   ],
   "source": [
    "# create a tuple\n",
    "tup = 45, 96\n",
    "another_tup = ('hello', 'there')\n",
    "\n",
    "# accessing tuple elements\n",
    "print(tup[1])\n",
    "print(another_tup[0])"
   ]
  },
  {
   "cell_type": "code",
   "execution_count": 7,
   "metadata": {
    "collapsed": false,
    "deletable": true,
    "editable": true
   },
   "outputs": [
    {
     "name": "stdout",
     "output_type": "stream",
     "text": [
      "a_list:  [23, 76]\n"
     ]
    },
    {
     "ename": "TypeError",
     "evalue": "'tuple' object does not support item assignment",
     "output_type": "error",
     "traceback": [
      "\u001b[0;31m---------------------------------------------------------------------------\u001b[0m",
      "\u001b[0;31mTypeError\u001b[0m                                 Traceback (most recent call last)",
      "\u001b[0;32m<ipython-input-7-7b31a61ed5d7>\u001b[0m in \u001b[0;36m<module>\u001b[0;34m()\u001b[0m\n\u001b[1;32m      6\u001b[0m \u001b[0;34m\u001b[0m\u001b[0m\n\u001b[1;32m      7\u001b[0m \u001b[0;31m# now try modifying a tuple, will print an error\u001b[0m\u001b[0;34m\u001b[0m\u001b[0;34m\u001b[0m\u001b[0m\n\u001b[0;32m----> 8\u001b[0;31m \u001b[0ma_tuple\u001b[0m\u001b[0;34m[\u001b[0m\u001b[0;36m0\u001b[0m\u001b[0;34m]\u001b[0m \u001b[0;34m=\u001b[0m \u001b[0;36m33\u001b[0m\u001b[0;34m\u001b[0m\u001b[0m\n\u001b[0m",
      "\u001b[0;31mTypeError\u001b[0m: 'tuple' object does not support item assignment"
     ]
    }
   ],
   "source": [
    "a_list = [23, 45]   # create new list\n",
    "a_tuple = (3, 4)   # created new tuple\n",
    "\n",
    "a_list[1] = 76   # you have changed the the list to [23, 46] \n",
    "print(\"a_list: \", a_list)\n",
    "\n",
    "# now try modifying a tuple, will print an error\n",
    "a_tuple[0] = 33"
   ]
  },
  {
   "cell_type": "markdown",
   "metadata": {
    "deletable": true,
    "editable": true
   },
   "source": [
    "An important property about tuples, unlike lists, is that they are **immutable**. You can create new tuples freely, but you cannot modify existing tuples."
   ]
  },
  {
   "cell_type": "markdown",
   "metadata": {
    "deletable": true,
    "editable": true
   },
   "source": [
    "***\n",
    "## Standard Library Modules\n",
    "\n",
    "Python comes \"batteries loaded\". This means that Python comes with a lot of prewritten code that is called the standard library. This library is very extensive, and offers a lot of modules and classes to accomplish a wide range of tasks.\n",
    "\n",
    "All of the modules in Python 2.7's Standard Library are listed in the official documentation at https://docs.python.org/2/library/index.html. To use any of these modules, you need to import them or the specific functions in them:\n",
    "\n",
    "    import math\n",
    "    # or\n",
    "    from math import factorial, log\n",
    "\n",
    "### Python `math`\n",
    "\n",
    "Let's have a look at the `math` module."
   ]
  },
  {
   "cell_type": "code",
   "execution_count": 8,
   "metadata": {
    "collapsed": false,
    "deletable": true,
    "editable": true
   },
   "outputs": [
    {
     "name": "stdout",
     "output_type": "stream",
     "text": [
      "3.7416573867739413\n",
      "1.2246467991473532e-16\n"
     ]
    }
   ],
   "source": [
    "import math\n",
    "\n",
    "mynum = 14\n",
    "print(math.sqrt(mynum))\n",
    "\n",
    "# math.pi is a constant in the math module\n",
    "print(math.sin(math.pi)) # should be almost 0"
   ]
  },
  {
   "cell_type": "markdown",
   "metadata": {
    "deletable": true,
    "editable": true
   },
   "source": [
    "### File I/O\n",
    "\n",
    "It is very useful to know how to read and write files in Python. A lot of datasets are distributed in files, and to use the data in them we need to be able to read them.\n",
    "\n",
    "Below we will go over some of the basics with I/O. When loading and saving files you can specify the entire filepath or just relative to the current working directory."
   ]
  },
  {
   "cell_type": "code",
   "execution_count": 9,
   "metadata": {
    "collapsed": false,
    "deletable": true,
    "editable": true
   },
   "outputs": [
    {
     "name": "stdout",
     "output_type": "stream",
     "text": [
      "The file has been written\n"
     ]
    }
   ],
   "source": [
    "# writes a simple statement to a text file\n",
    "filepath = 'simple.txt'\n",
    "\n",
    "# opens the file. 'w' signifies we want to write to it.\n",
    "f = open(filepath, 'w')\n",
    "# 'w' erases existing file; use 'a' to append to an existing file\n",
    "\n",
    "    # write a line to file using the .write() function\n",
    "f.write('Hello Advanced Python Workshop!\\n')\n",
    "f.close() # if you open a file, always close it\n",
    "print('The file has been written')"
   ]
  },
  {
   "cell_type": "markdown",
   "metadata": {
    "deletable": true,
    "editable": true
   },
   "source": [
    "Likewise we can load text files using the `read()` function."
   ]
  },
  {
   "cell_type": "code",
   "execution_count": 10,
   "metadata": {
    "collapsed": false,
    "deletable": true,
    "editable": true
   },
   "outputs": [
    {
     "name": "stdout",
     "output_type": "stream",
     "text": [
      "Hello Advanced Python Workshop!\n",
      "\n"
     ]
    }
   ],
   "source": [
    "filepath = 'simple.txt'\n",
    "# opens the file, default behavior is to read (not write)\n",
    "f = open(filepath) # default parameter is 'r' for read\n",
    "print(f.read()) # reads the text file\n",
    "f.close()"
   ]
  },
  {
   "cell_type": "markdown",
   "metadata": {
    "deletable": true,
    "editable": true
   },
   "source": [
    "### CSV Files\n",
    "\n",
    "The CSV (Comma Separated Values) format is the most common import and export format for spreadsheets and databases. Although there is no standard for how the data is formatted, the generally followed format is like so:\n",
    "\n",
    "    column1_title, column2_title, column3_title\n",
    "    row1_data1, row1_data2, row1_data3\n",
    "    row2_data1, row2_data2, row2_data3\n",
    "    ...\n",
    "\n",
    "While the delimiters and quoting characters vary, the overall format is similar enough for easy parsing using the csv module.\n",
    "In the data folder, there is a test.csv file with the following contents:\n",
    "\n",
    "    name,column1,column2,column3\n",
    "    abc,1.1,4.2,1.2\n",
    "    def,2.1,1.4,5.2\n",
    "    ghi,1.5,1.2,2.1\n",
    "    jkl,1.8,1.1,4.2\n",
    "    mno,9.4,6.6,6.2\n",
    "    pqr,1.4,8.3,8.4\n",
    "\n",
    "Let's see how to parse the file and read the first few lines. Whenever you call the `open()` function in Python, you also need to call the close function. But since a lot of people forget, the general syntax people use is the __`with as`__ structure.\n",
    "\n",
    "In the case below, the file contents that the `open()` function returns is stored in a temporary variable called `csv_con`."
   ]
  },
  {
   "cell_type": "code",
   "execution_count": 11,
   "metadata": {
    "collapsed": false,
    "deletable": true,
    "editable": true
   },
   "outputs": [
    {
     "name": "stdout",
     "output_type": "stream",
     "text": [
      "First 3 rows:\n",
      "\n",
      "['name', 'column1', 'column2', 'column3']\n",
      "['abc', '1.1', '4.2', '1.2']\n",
      "['def', '2.1', '1.4', '5.2']\n"
     ]
    }
   ],
   "source": [
    "import csv\n",
    "\n",
    "# the relative path to the location of our csv file\n",
    "csv_file = 'data/test.csv'\n",
    "\n",
    "# a blank object that will store the parsed csv data\n",
    "test_csv = None\n",
    "\n",
    "with open(csv_file, 'r') as csv_con:\n",
    "    # create a reader variable to read and parse csv_con\n",
    "    reader = csv.reader(csv_con, delimiter=',')\n",
    "    # store the parsed data as a list in test_csv\n",
    "    test_csv = list(reader)\n",
    "\n",
    "print('First 3 rows:\\n')\n",
    "for row in range(3):\n",
    "    print(test_csv[row])"
   ]
  },
  {
   "cell_type": "markdown",
   "metadata": {
    "deletable": true,
    "editable": true
   },
   "source": [
    "***\n",
    "## Making a To-Do List App in Python\n",
    "\n",
    "For our first project of the day, we are going to be creating a To-Do List app. This app involves some simple functions that will update a list object filled with tasks.  \n",
    "First let's look at the enumerate function. This function returns tuples storing the elements in your list as a key-value pair.\n",
    "For more information visit: https://docs.python.org/2/library/functions.html#enumerate"
   ]
  },
  {
   "cell_type": "code",
   "execution_count": 12,
   "metadata": {
    "collapsed": false,
    "deletable": true,
    "editable": true
   },
   "outputs": [
    {
     "name": "stdout",
     "output_type": "stream",
     "text": [
      "[(0, 'eric'), (1, 'leo'), (2, 'john')]\n"
     ]
    }
   ],
   "source": [
    "mylist = [\"eric\", \"leo\", \"john\"]\n",
    "enum = enumerate(mylist)\n",
    "\n",
    "print(list(enum))"
   ]
  },
  {
   "cell_type": "markdown",
   "metadata": {
    "deletable": true,
    "editable": true
   },
   "source": [
    "In the code block below, write 3 functions:\n",
    "* addItem(item)\n",
    "    * This function adds an item to your list array if it doesn't already exist.\n",
    "* deleteItem(item)\n",
    "    * This function deletes an item in your list array.\n",
    "* def viewList( )\n",
    "    * This function allows you to view all of the items in the array.\n",
    "      HINT: Use the enumerate function we just learned.  "
   ]
  },
  {
   "cell_type": "code",
   "execution_count": 13,
   "metadata": {
    "collapsed": true,
    "deletable": true,
    "editable": true
   },
   "outputs": [],
   "source": [
    "todo_list = []\n",
    "\n",
    "#add item\n",
    "def addItem(item):\n",
    "    if item not in todo_list:\n",
    "        todo_list.append(item)\n",
    "        \n",
    "#delete item\n",
    "def deleteItem(item):\n",
    "    todo_list.remove(item)\n",
    "\n",
    "#view the list    \n",
    "def viewList():\n",
    "    enum = enumerate(todo_list, start = 1)\n",
    "    for i, item in enum:\n",
    "        print(\"Item No\", i, \":\", item)"
   ]
  },
  {
   "cell_type": "code",
   "execution_count": 14,
   "metadata": {
    "collapsed": false,
    "deletable": true,
    "editable": true
   },
   "outputs": [
    {
     "name": "stdout",
     "output_type": "stream",
     "text": [
      "Item No 1 : Buy groceries\n",
      "Item No 2 : Eat food\n"
     ]
    }
   ],
   "source": [
    "addItem(\"Buy groceries\")\n",
    "addItem(\"Eat food\")\n",
    "viewList()"
   ]
  },
  {
   "cell_type": "code",
   "execution_count": 15,
   "metadata": {
    "collapsed": false,
    "deletable": true,
    "editable": true
   },
   "outputs": [
    {
     "name": "stdout",
     "output_type": "stream",
     "text": [
      "Item No 1 : Eat food\n"
     ]
    }
   ],
   "source": [
    "deleteItem(\"Buy groceries\")\n",
    "viewList()"
   ]
  },
  {
   "cell_type": "markdown",
   "metadata": {
    "collapsed": true,
    "deletable": true,
    "editable": true
   },
   "source": [
    "***\n",
    "## Important functions using lists\n",
    "\n",
    "Lists are so common in Python that it is very useful to know how to do some basic tasks with it. These include slicing, merging, and generating lists."
   ]
  },
  {
   "cell_type": "markdown",
   "metadata": {
    "deletable": true,
    "editable": true
   },
   "source": [
    "### Slicing\n",
    "List slicing allows you to select sections of the list. It can be thought of as an enchanced indexing method.\n",
    "![List Slicing Image](http://www.nltk.org/images/string-slicing.png)\n",
    "\n",
    "Slicing uses the syntax `mylist[start:end]` and the resulting list will include elements from `start` to (but not including) `end`. Here's an example to illustrate this."
   ]
  },
  {
   "cell_type": "code",
   "execution_count": 16,
   "metadata": {
    "collapsed": false,
    "deletable": true,
    "editable": true
   },
   "outputs": [
    {
     "name": "stdout",
     "output_type": "stream",
     "text": [
      "Pyth\n"
     ]
    }
   ],
   "source": [
    "# to select 4 elements of a string starting from index 6\n",
    "\n",
    "seq = 'Monty Python'\n",
    "print(seq[6:10])"
   ]
  },
  {
   "cell_type": "markdown",
   "metadata": {
    "deletable": true,
    "editable": true
   },
   "source": [
    "To select everything until a particular index, we can omit the `start` number."
   ]
  },
  {
   "cell_type": "code",
   "execution_count": 17,
   "metadata": {
    "collapsed": false,
    "deletable": true,
    "editable": true
   },
   "outputs": [
    {
     "name": "stdout",
     "output_type": "stream",
     "text": [
      "Monty\n"
     ]
    }
   ],
   "source": [
    "print(seq[:5])"
   ]
  },
  {
   "cell_type": "markdown",
   "metadata": {
    "deletable": true,
    "editable": true
   },
   "source": [
    "Similarly we can omit the `end` number to select everything until the end."
   ]
  },
  {
   "cell_type": "code",
   "execution_count": 18,
   "metadata": {
    "collapsed": false,
    "deletable": true,
    "editable": true
   },
   "outputs": [
    {
     "name": "stdout",
     "output_type": "stream",
     "text": [
      "ython\n"
     ]
    }
   ],
   "source": [
    "print(seq[7:])"
   ]
  },
  {
   "cell_type": "markdown",
   "metadata": {
    "deletable": true,
    "editable": true
   },
   "source": [
    "We can also use negative indices to select from the end."
   ]
  },
  {
   "cell_type": "code",
   "execution_count": 19,
   "metadata": {
    "collapsed": false,
    "deletable": true,
    "editable": true
   },
   "outputs": [
    {
     "name": "stdout",
     "output_type": "stream",
     "text": [
      "onty Py\n"
     ]
    }
   ],
   "source": [
    "print(seq[-11:-4])"
   ]
  },
  {
   "cell_type": "markdown",
   "metadata": {
    "deletable": true,
    "editable": true
   },
   "source": [
    "To skip every set number of elements, we can provide a step parameter."
   ]
  },
  {
   "cell_type": "code",
   "execution_count": 20,
   "metadata": {
    "collapsed": false,
    "deletable": true,
    "editable": true
   },
   "outputs": [
    {
     "name": "stdout",
     "output_type": "stream",
     "text": [
      "nyPto\n"
     ]
    }
   ],
   "source": [
    "print(seq[2:11:2])"
   ]
  },
  {
   "cell_type": "markdown",
   "metadata": {
    "deletable": true,
    "editable": true
   },
   "source": [
    "### Sorting Lists"
   ]
  },
  {
   "cell_type": "markdown",
   "metadata": {
    "deletable": true,
    "editable": true
   },
   "source": [
    "There are two ways to sort lists. We can either modify the list itself to make it sorted. Or we can return a new sorted list, thus preserving the order of the original list."
   ]
  },
  {
   "cell_type": "code",
   "execution_count": 21,
   "metadata": {
    "collapsed": false,
    "deletable": true,
    "editable": true
   },
   "outputs": [
    {
     "name": "stdout",
     "output_type": "stream",
     "text": [
      "[1, 3, 5, 6, 7, 9]\n"
     ]
    }
   ],
   "source": [
    "# in-place sorting\n",
    "seq = [1, 5, 3, 9, 7, 6]\n",
    "seq.sort()\n",
    "print(seq)"
   ]
  },
  {
   "cell_type": "code",
   "execution_count": 22,
   "metadata": {
    "collapsed": false,
    "deletable": true,
    "editable": true
   },
   "outputs": [
    {
     "name": "stdout",
     "output_type": "stream",
     "text": [
      "[1, 3, 5, 6, 7, 9]\n"
     ]
    }
   ],
   "source": [
    "# return a new list that is sorted\n",
    "seq = [1, 5, 3, 9, 7, 6]\n",
    "newseq = sorted(seq)\n",
    "print(newseq)"
   ]
  },
  {
   "cell_type": "markdown",
   "metadata": {
    "deletable": true,
    "editable": true
   },
   "source": [
    "You can also specify how you want to sort lists based on the `key` parameter. So if we want to sort it by length, we can do something like this."
   ]
  },
  {
   "cell_type": "code",
   "execution_count": 23,
   "metadata": {
    "collapsed": false,
    "deletable": true,
    "editable": true
   },
   "outputs": [
    {
     "name": "stdout",
     "output_type": "stream",
     "text": [
      "['wow', 'hello', 'python', 'technology']\n"
     ]
    }
   ],
   "source": [
    "seq = ['hello', 'wow', 'technology', 'python']\n",
    "seq.sort(key=len)\n",
    "print(seq)"
   ]
  },
  {
   "cell_type": "markdown",
   "metadata": {
    "deletable": true,
    "editable": true
   },
   "source": [
    "### Pairing list elements using `zip`\n",
    "If we have multiple lists and we want to pair them up into a single list, we can use zip."
   ]
  },
  {
   "cell_type": "code",
   "execution_count": 39,
   "metadata": {
    "collapsed": false,
    "deletable": true,
    "editable": true
   },
   "outputs": [
    {
     "name": "stdout",
     "output_type": "stream",
     "text": [
      "[(1, 'foo'), (2, 'bar'), (3, 'baz')]\n"
     ]
    }
   ],
   "source": [
    "seq_1 = [1, 2, 3]\n",
    "seq_2 = ['foo', 'bar', 'baz']\n",
    "zipped_seq = list(zip(seq_1, seq_2))\n",
    "print(zipped_seq)"
   ]
  },
  {
   "cell_type": "markdown",
   "metadata": {
    "deletable": true,
    "editable": true
   },
   "source": [
    "The elements of the zipped list are tuples."
   ]
  },
  {
   "cell_type": "code",
   "execution_count": 41,
   "metadata": {
    "collapsed": false,
    "deletable": true,
    "editable": true
   },
   "outputs": [
    {
     "name": "stdout",
     "output_type": "stream",
     "text": [
      "(1, 'foo')\n"
     ]
    }
   ],
   "source": [
    "print(zipped_seq[0])"
   ]
  },
  {
   "cell_type": "markdown",
   "metadata": {
    "deletable": true,
    "editable": true
   },
   "source": [
    "### List Comprehensions\n",
    "List comprehensions are one of the best features of Python's list. They allow you to generate new lists using syntax that is very similar to English.\n",
    "\n",
    "List comprehensions concisely form a new list by filtering the elements of a sequence and transforming the elements passing the filter. List comprehensions take the form:\n",
    "\n",
    "    [expr for val in collection if condition]\n",
    "\n",
    "![List Comprehension figure](http://python-3-patterns-idioms-test.readthedocs.org/en/latest/_images/listComprehensions.gif)\n",
    "\n",
    "Which is equivalent to the following for loop:\n",
    "\n",
    "    result = []\n",
    "    for val in collection:\n",
    "        if condition:\n",
    "            result.append(expr)\n",
    "\n",
    "Here's an example that converts to upper case all strings that start with a 'b':"
   ]
  },
  {
   "cell_type": "code",
   "execution_count": 42,
   "metadata": {
    "collapsed": false,
    "deletable": true,
    "editable": true
   },
   "outputs": [
    {
     "name": "stdout",
     "output_type": "stream",
     "text": [
      "[1, 16, 81, 9, 0, 16]\n"
     ]
    }
   ],
   "source": [
    "a_list = [1, 4, 9, 3, 0, 4]\n",
    "squared_ints = [e**2 for e in a_list]\n",
    "print(squared_ints)"
   ]
  },
  {
   "cell_type": "code",
   "execution_count": 43,
   "metadata": {
    "collapsed": false,
    "deletable": true,
    "editable": true
   },
   "outputs": [
    {
     "name": "stdout",
     "output_type": "stream",
     "text": [
      "['BAR', 'BAZ', 'B', 'BA']\n"
     ]
    }
   ],
   "source": [
    "strings = ['foo', 'bar', 'baz', 'f', 'fo', 'b', 'ba']\n",
    "newlist = [x.upper() for x in strings if x[0] == 'b']\n",
    "print(newlist)"
   ]
  },
  {
   "cell_type": "markdown",
   "metadata": {
    "deletable": true,
    "editable": true
   },
   "source": [
    "***\n",
    "## Lambda Functions\n",
    "\n",
    "__`lambda`__ is a reserved keyword in Python. It signals the creation of an anonymous function (it's not bound to a name). It allows functions to be written in a single line and to be passed with relative ease. The best way to understand it is just to look at some examples."
   ]
  },
  {
   "cell_type": "code",
   "execution_count": 45,
   "metadata": {
    "collapsed": false,
    "deletable": true,
    "editable": true
   },
   "outputs": [
    {
     "name": "stdout",
     "output_type": "stream",
     "text": [
      "27\n",
      "27\n"
     ]
    }
   ],
   "source": [
    "# Simple function as we would normally define it\n",
    "def f(x):\n",
    "    return x**3\n",
    "\n",
    "print(f(3))\n",
    "\n",
    "g = lambda x:x**3 #Same exact function using the lambda keyword\n",
    "print(g(3))"
   ]
  },
  {
   "cell_type": "code",
   "execution_count": 48,
   "metadata": {
    "collapsed": false,
    "deletable": true,
    "editable": true
   },
   "outputs": [
    {
     "name": "stdout",
     "output_type": "stream",
     "text": [
      "[12, 8, 4, 10, 2]\n"
     ]
    }
   ],
   "source": [
    "# filter the even numbers in a list\n",
    "\n",
    "mylist = [17, 29, 12, 41, 8, 4, 10, 2]\n",
    "# filters out anything that doesn't satisfy the given function\n",
    "filtered_list = list(filter(lambda val : val%2 == 0, mylist))\n",
    "\n",
    "print(filtered_list)"
   ]
  },
  {
   "cell_type": "markdown",
   "metadata": {
    "deletable": true,
    "editable": true
   },
   "source": [
    "***\n",
    "## Using `urllib2` to Access Web Data and `BeautifulSoup` to Parse it.\n",
    "\n",
    "`urllib2` is a very easy-to-use module to fetch URLs (Uniform Resource Locators). You can use this module to easily read and use web content in your code. We are going to use this module to build an app that gets weather data.\n",
    "\n",
    "`BeautifulSoup` on the other hand is HTML and XML parser. It creates a parse tree from the parsed webpage and can be used to access several tags in the HTML page. This makes it a very useful tool for web-scraping.\n",
    "\n",
    "Let's start by seeing what reading the Python.org homepage through `urllib2` looks like. Then we will use `BeautifulSoup` to print all the links present in the webpage!   \n",
    "For more information visit: https://www.crummy.com/software/BeautifulSoup/bs4/doc/"
   ]
  },
  {
   "cell_type": "code",
   "execution_count": 53,
   "metadata": {
    "collapsed": false,
    "deletable": true,
    "editable": true
   },
   "outputs": [
    {
     "name": "stdout",
     "output_type": "stream",
     "text": [
      "<class 'bs4.BeautifulSoup'>\n",
      "https://docs.python.org\n",
      "https://pypi.python.org/\n",
      "http://plus.google.com/+Python\n",
      "http://www.facebook.com/pythonlang?fref=ts\n",
      "http://twitter.com/ThePSF\n",
      "http://brochure.getpython.info/\n",
      "https://docs.python.org/3/license.html\n",
      "https://wiki.python.org/moin/BeginnersGuide\n",
      "https://docs.python.org/devguide/\n",
      "https://docs.python.org/faq/\n",
      "http://wiki.python.org/moin/Languages\n",
      "http://python.org/dev/peps/\n",
      "https://wiki.python.org/moin/PythonBooks\n",
      "https://wiki.python.org/moin/\n",
      "https://www.python.org/psf/codeofconduct/\n",
      "http://planetpython.org/\n",
      "http://pyfound.blogspot.com/\n",
      "http://pycon.blogspot.com/\n",
      "https://wiki.python.org/moin/PythonEventsCalendar#Submitting_an_Event\n",
      "http://docs.python.org/3/tutorial/introduction.html#using-python-as-a-calculator\n",
      "https://wiki.python.org/moin/Python2orPython3\n",
      "https://docs.python.org\n",
      "http://blog.python.org\n",
      "http://feedproxy.google.com/~r/PythonInsider/~3/8Ow7wxYkBmY/python-363rc1-and-370a1-now-available.html\n",
      "http://feedproxy.google.com/~r/PythonInsider/~3/3SUhDRzB1-s/python-2714-released.html\n",
      "http://feedproxy.google.com/~r/PythonInsider/~3/pUndlLcEcKE/python-337rc1-is-now-available-prior-to.html\n",
      "http://feedproxy.google.com/~r/PythonInsider/~3/pe2Ug4MA0Lg/python-2714-release-candidate-1.html\n",
      "http://feedproxy.google.com/~r/PythonInsider/~3/vY72b719CGk/python-354-and-python-347-are-now.html\n",
      "http://www.djangoproject.com/\n",
      "http://www.pylonsproject.org/\n",
      "http://bottlepy.org\n",
      "http://tornadoweb.org\n",
      "http://flask.pocoo.org/\n",
      "http://www.web2py.com/\n",
      "http://wiki.python.org/moin/TkInter\n",
      "https://wiki.gnome.org/Projects/PyGObject\n",
      "http://www.riverbankcomputing.co.uk/software/pyqt/intro\n",
      "https://wiki.qt.io/PySide\n",
      "https://kivy.org/\n",
      "http://www.wxpython.org/\n",
      "http://www.scipy.org\n",
      "http://pandas.pydata.org/\n",
      "http://ipython.org\n",
      "http://buildbot.net/\n",
      "http://trac.edgewall.org/\n",
      "http://roundup.sourceforge.net/\n",
      "http://www.ansible.com\n",
      "http://www.saltstack.com\n",
      "https://www.openstack.org\n",
      "http://brochure.getpython.info/\n",
      "https://docs.python.org/3/license.html\n",
      "https://wiki.python.org/moin/BeginnersGuide\n",
      "https://docs.python.org/devguide/\n",
      "https://docs.python.org/faq/\n",
      "http://wiki.python.org/moin/Languages\n",
      "http://python.org/dev/peps/\n",
      "https://wiki.python.org/moin/PythonBooks\n",
      "https://wiki.python.org/moin/\n",
      "https://www.python.org/psf/codeofconduct/\n",
      "http://planetpython.org/\n",
      "http://pyfound.blogspot.com/\n",
      "http://pycon.blogspot.com/\n",
      "https://wiki.python.org/moin/PythonEventsCalendar#Submitting_an_Event\n",
      "http://docs.python.org/devguide/\n",
      "https://bugs.python.org/\n",
      "https://mail.python.org/mailman/listinfo/python-dev\n",
      "https://github.com/python/pythondotorg/issues\n",
      "https://status.python.org/\n"
     ]
    }
   ],
   "source": [
    "import urllib\n",
    "from urllib.request import urlopen\n",
    "from bs4 import BeautifulSoup\n",
    "url = 'http://python.org'\n",
    "response = urlopen(url)\n",
    "html = response.read()\n",
    "\n",
    "#print html\n",
    "# We can use BeautifulSoup to parse the web tree to give us only the web-links instead.\n",
    "soup = BeautifulSoup(html, \"html.parser\") #Create a soup object. Check its class using:  print type(soup)\n",
    "print(type(soup))\n",
    "for link in soup.find_all('a', href=True): #Finding all the tags containing 'a' and its a link\n",
    "    if \"http\" in link['href']:\n",
    "        print(link['href'])\n"
   ]
  },
  {
   "cell_type": "markdown",
   "metadata": {
    "deletable": true,
    "editable": true
   },
   "source": [
    "This prints out the complete source HTML of the website. We have this data stored as a regular string in the html variable, and we can now do whatever we want with it."
   ]
  },
  {
   "cell_type": "markdown",
   "metadata": {
    "deletable": true,
    "editable": true
   },
   "source": [
    "### Build a Weather Reporting Program!\n",
    "\n",
    "Let's now use the `urllib2` module to build a small program that tells you the city and the current weather when you give it the zip code of a place.\n",
    "For the weather data, we will use the service OpenWeatherMap.org. Copy the URL http://api.openweathermap.org/data/2.5/weather?zip=61820,us&appid=cf7f4e0a615b5f48f4601377a2c98a75 into the address bar in a new tab. The website shows text about the weather information in the area of zipcode 61820 (Champaign). Let's load this information through `urllib2`."
   ]
  },
  {
   "cell_type": "code",
   "execution_count": 61,
   "metadata": {
    "collapsed": false,
    "deletable": true,
    "editable": true
   },
   "outputs": [
    {
     "name": "stdout",
     "output_type": "stream",
     "text": [
      "{\"coord\":{\"lon\":-88.24,\"lat\":40.11},\"weather\":[{\"id\":800,\"main\":\"Clear\",\"description\":\"clear sky\",\"icon\":\"01d\"}],\"base\":\"stations\",\"main\":{\"temp\":306.15,\"pressure\":1017,\"humidity\":43,\"temp_min\":306.15,\"temp_max\":306.15},\"visibility\":16093,\"wind\":{\"speed\":2.6,\"deg\":90},\"clouds\":{\"all\":1},\"dt\":1506204900,\"sys\":{\"type\":1,\"id\":1003,\"message\":0.0034,\"country\":\"US\",\"sunrise\":1506166960,\"sunset\":1506210383},\"id\":0,\"name\":\"Champaign\",\"cod\":200}\n"
     ]
    }
   ],
   "source": [
    "appid = 'cf7f4e0a615b5f48f4601377a2c98a75'\n",
    "zipcode = '61820'\n",
    "url = 'http://api.openweathermap.org/data/2.5/weather?zip={},us&APPID={}'.format(zipcode, appid)\n",
    "response = urlopen(url)\n",
    "weather_html = response.read().decode('utf-8')\n",
    "\n",
    "print(weather_html)"
   ]
  },
  {
   "cell_type": "markdown",
   "metadata": {
    "deletable": true,
    "editable": true
   },
   "source": [
    "The string that we have received is formatted in JSON, which is very similar to a Python dictionary. Let's parse this JSON data into a Python dictionary, and also pretty print it so that we can understand the structure of the data."
   ]
  },
  {
   "cell_type": "code",
   "execution_count": 62,
   "metadata": {
    "collapsed": false,
    "deletable": true,
    "editable": true
   },
   "outputs": [
    {
     "name": "stdout",
     "output_type": "stream",
     "text": [
      "{\n",
      "  \"weather\": [\n",
      "    {\n",
      "      \"main\": \"Clear\",\n",
      "      \"icon\": \"01d\",\n",
      "      \"description\": \"clear sky\",\n",
      "      \"id\": 800\n",
      "    }\n",
      "  ],\n",
      "  \"visibility\": 16093,\n",
      "  \"cod\": 200,\n",
      "  \"id\": 0,\n",
      "  \"base\": \"stations\",\n",
      "  \"coord\": {\n",
      "    \"lon\": -88.24,\n",
      "    \"lat\": 40.11\n",
      "  },\n",
      "  \"clouds\": {\n",
      "    \"all\": 1\n",
      "  },\n",
      "  \"sys\": {\n",
      "    \"type\": 1,\n",
      "    \"id\": 1003,\n",
      "    \"message\": 0.0034,\n",
      "    \"country\": \"US\",\n",
      "    \"sunset\": 1506210383,\n",
      "    \"sunrise\": 1506166960\n",
      "  },\n",
      "  \"main\": {\n",
      "    \"pressure\": 1017,\n",
      "    \"humidity\": 43,\n",
      "    \"temp_min\": 306.15,\n",
      "    \"temp\": 306.15,\n",
      "    \"temp_max\": 306.15\n",
      "  },\n",
      "  \"name\": \"Champaign\",\n",
      "  \"wind\": {\n",
      "    \"deg\": 90,\n",
      "    \"speed\": 2.6\n",
      "  },\n",
      "  \"dt\": 1506204900\n",
      "}\n"
     ]
    }
   ],
   "source": [
    "from json import JSONDecoder, dumps\n",
    "\n",
    "decoder = JSONDecoder()\n",
    "weather_data = decoder.decode(weather_html)\n",
    "pretty_weather_data = dumps(weather_data, indent=2, separators=(',', ': '))\n",
    "\n",
    "print(pretty_weather_data)"
   ]
  },
  {
   "cell_type": "markdown",
   "metadata": {
    "deletable": true,
    "editable": true
   },
   "source": [
    "The information we want to build our program is the name field and the temp field which is inside the main sub-dictionary."
   ]
  },
  {
   "cell_type": "code",
   "execution_count": 63,
   "metadata": {
    "collapsed": false,
    "deletable": true,
    "editable": true
   },
   "outputs": [
    {
     "name": "stdout",
     "output_type": "stream",
     "text": [
      "We are in Champaign and it is 91.4 degrees outside!\n"
     ]
    }
   ],
   "source": [
    "city = weather_data['name']\n",
    "\n",
    "temp_kelvin = weather_data['main']['temp']\n",
    "temp_fah = 1.8 * (temp_kelvin - 273.15) + 32\n",
    "\n",
    "print(\"We are in {0} and it is {1} degrees outside!\".format(city, temp_fah))"
   ]
  },
  {
   "cell_type": "markdown",
   "metadata": {
    "deletable": true,
    "editable": true
   },
   "source": [
    "Let's put all of this into a nice and easy to use function."
   ]
  },
  {
   "cell_type": "code",
   "execution_count": 71,
   "metadata": {
    "collapsed": true,
    "deletable": true,
    "editable": true
   },
   "outputs": [],
   "source": [
    "def tell_me_weather(zipcode):\n",
    "    # import urllib2\n",
    "    appid = 'cf7f4e0a615b5f48f4601377a2c98a75'\n",
    "    url = 'http://api.openweathermap.org/data/2.5/weather?zip={0},us&APPID={1}'.format(zipcode, appid)\n",
    "    response = urlopen(url)\n",
    "    weather_html = response.read().decode('utf-8')\n",
    "    \n",
    "    # from json import JSONDecoder, dumps\n",
    "\n",
    "    decoder = JSONDecoder()\n",
    "    weather_data = decoder.decode(weather_html)\n",
    "    \n",
    "    city = weather_data['name']\n",
    "\n",
    "    temp_kelvin = weather_data['main']['temp']\n",
    "    temp_fah = 1.8 * (temp_kelvin - 273.15) + 32\n",
    "\n",
    "    print(\"You are in {0} and it is {1} degrees outside!\".format(city, temp_fah))"
   ]
  },
  {
   "cell_type": "markdown",
   "metadata": {
    "deletable": true,
    "editable": true
   },
   "source": [
    "Now let's use our new tell_me_weather function!"
   ]
  },
  {
   "cell_type": "code",
   "execution_count": 72,
   "metadata": {
    "collapsed": false,
    "deletable": true,
    "editable": true
   },
   "outputs": [
    {
     "name": "stdout",
     "output_type": "stream",
     "text": [
      "You are in Urbana and it is 91.4 degrees outside!\n",
      "You are in Chicago and it is 90.95 degrees outside!\n",
      "You are in San Francisco and it is 78.17000000000007 degrees outside!\n"
     ]
    }
   ],
   "source": [
    "tell_me_weather(61801)\n",
    "tell_me_weather(60601)\n",
    "tell_me_weather(94102)"
   ]
  },
  {
   "cell_type": "code",
   "execution_count": null,
   "metadata": {
    "collapsed": true,
    "deletable": true,
    "editable": true
   },
   "outputs": [],
   "source": []
  }
 ],
 "metadata": {
  "kernelspec": {
   "display_name": "Python 3",
   "language": "python",
   "name": "python3"
  },
  "language_info": {
   "codemirror_mode": {
    "name": "ipython",
    "version": 3
   },
   "file_extension": ".py",
   "mimetype": "text/x-python",
   "name": "python",
   "nbconvert_exporter": "python",
   "pygments_lexer": "ipython3",
   "version": "3.5.2"
  }
 },
 "nbformat": 4,
 "nbformat_minor": 1
}
