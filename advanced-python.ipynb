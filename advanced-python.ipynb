{
 "cells": [
  {
   "cell_type": "markdown",
   "metadata": {
    "collapsed": true
   },
   "source": [
    "# ADSA SPRING 2016 WORKSHOP 2: Advanced Python"
   ]
  },
  {
   "cell_type": "markdown",
   "metadata": {},
   "source": [
    "\n",
    "\n",
    "    Workshop content adapted from\n",
    "\n",
    "*        https://github.com/ehmatthes/intro_programming/\n",
    "*        http://github.com/rasbt/python_reference/blob/master/tutorials/sorting_csvs.ipynb\n",
    "*        http://www.engr.ucsb.edu/~shell/che210d/numpy.pdf\n"
   ]
  },
  {
   "cell_type": "markdown",
   "metadata": {
    "collapsed": true
   },
   "source": [
    "This workshop is a continuation of last week's workshop and will be focusing on topics such as:\n",
    "\n",
    "\n",
    "*    Tuples\n",
    "*    Functions\n",
    "*    Standard Library Modules\n",
    "     *        Math\n",
    "     *        fileIO\n",
    "     *        CSV\n",
    "*    Accessing web data using urllib\n",
    "*    List Slicing\n",
    "*    List Comprehensions\n",
    "*    Lambda Functions\n",
    " "
   ]
  },
  {
   "cell_type": "markdown",
   "metadata": {},
   "source": [
    "## Refresher of Workshop 1"
   ]
  },
  {
   "cell_type": "markdown",
   "metadata": {},
   "source": [
    "### Lists and Loops"
   ]
  },
  {
   "cell_type": "code",
   "execution_count": 1,
   "metadata": {
    "collapsed": false
   },
   "outputs": [
    {
     "name": "stdout",
     "output_type": "stream",
     "text": [
      "['Eric Idle', 'John Cleese', 'Albert Fry']\n"
     ]
    }
   ],
   "source": [
    "awesome_people = [\"Eric Idle\", \"John Cleese\", \"Albert Fry\"]\n",
    "print(awesome_people)"
   ]
  },
  {
   "cell_type": "code",
   "execution_count": 2,
   "metadata": {
    "collapsed": false
   },
   "outputs": [
    {
     "name": "stdout",
     "output_type": "stream",
     "text": [
      "I am on iteration 0!\n",
      "I am on iteration 1!\n",
      "I am on iteration 2!\n",
      "I am on iteration 3!\n",
      "I am on iteration 4!\n"
     ]
    }
   ],
   "source": [
    "for number in range(0, 5):\n",
    "    print(\"I am on iteration {0}!\".format(number))"
   ]
  },
  {
   "cell_type": "markdown",
   "metadata": {},
   "source": [
    "### Functions"
   ]
  },
  {
   "cell_type": "markdown",
   "metadata": {},
   "source": [
    "#### Declaring Functions"
   ]
  },
  {
   "cell_type": "code",
   "execution_count": 4,
   "metadata": {
    "collapsed": true
   },
   "outputs": [],
   "source": [
    "# This function prints a two-line personalized thank you message.\n",
    "def promote(name):\n",
    "    # print() is also a function!\n",
    "    # It prints the string you give it onto the screen.\n",
    "    \n",
    "    print('Congratulations! You have been promoted, {0}!'.format(name))\n",
    "    print('You are now qualified to do Advanced Python\\n')"
   ]
  },
  {
   "cell_type": "markdown",
   "metadata": {},
   "source": [
    "#### Calling a function"
   ]
  },
  {
   "cell_type": "markdown",
   "metadata": {},
   "source": [
    "We can now call the function we have just defined:"
   ]
  },
  {
   "cell_type": "code",
   "execution_count": 6,
   "metadata": {
    "collapsed": false
   },
   "outputs": [
    {
     "name": "stdout",
     "output_type": "stream",
     "text": [
      "Congratulations! You have been promoted, Aditya!\n",
      "You are now qualified to do Advanced Python\n",
      "\n",
      "Congratulations! You have been promoted, Srujun!\n",
      "You are now qualified to do Advanced Python\n",
      "\n",
      "Congratulations! You have been promoted, ENTER_YOUR_NAME!\n",
      "You are now qualified to do Advanced Python\n",
      "\n"
     ]
    }
   ],
   "source": [
    "promote('Aditya')\n",
    "promote('Srujun')\n",
    "promote('ENTER_YOUR_NAME')"
   ]
  },
  {
   "cell_type": "markdown",
   "metadata": {},
   "source": [
    "#### Passing by Reference"
   ]
  },
  {
   "cell_type": "markdown",
   "metadata": {},
   "source": [
    "All parameters in Python are passed by reference and so if you change the parameter inside a called function, the same change occurs in the calling function."
   ]
  },
  {
   "cell_type": "code",
   "execution_count": 12,
   "metadata": {
    "collapsed": false
   },
   "outputs": [
    {
     "name": "stdout",
     "output_type": "stream",
     "text": [
      "Values inside the function:  [10, 20, 30, [1, 2, 3, 4]]\n",
      "Values outside the function:  [10, 20, 30, [1, 2, 3, 4]]\n"
     ]
    }
   ],
   "source": [
    "# Called Function definition is here\n",
    "def addtolist( mylist ):\n",
    "#This changes a passed list into this function by adding values to it\n",
    "   mylist.append([1,2,3,4]);\n",
    "   print \"Values inside the function: \", mylist\n",
    "   return\n",
    "\n",
    "# Now you can call addtolist function\n",
    "mylist = [10,20,30];\n",
    "addtolist( mylist );\n",
    "print \"Values outside the function: \", mylist\n"
   ]
  },
  {
   "cell_type": "markdown",
   "metadata": {},
   "source": [
    "##### One more example"
   ]
  },
  {
   "cell_type": "markdown",
   "metadata": {},
   "source": [
    "Here argument is passed by reference , but is overwritten inside the called function"
   ]
  },
  {
   "cell_type": "code",
   "execution_count": 1,
   "metadata": {
    "collapsed": false
   },
   "outputs": [
    {
     "name": "stdout",
     "output_type": "stream",
     "text": [
      "Values inside the function:  [1, 2, 3, 4]\n",
      "Values outside the function:  [10, 20, 30]\n"
     ]
    }
   ],
   "source": [
    "# Function definition is here\n",
    "def addtolist( mylistin ):\n",
    "#This changes a passed list into this function by adding values to it\n",
    "   mylistin = ([1,2,3,4]);\n",
    "   print \"Values inside the function: \", mylistin\n",
    "   return\n",
    "\n",
    "# Now you can call addtolist function\n",
    "mylist = [10,20,30];\n",
    "addtolist( mylist );\n",
    "print \"Values outside the function: \", mylist"
   ]
  },
  {
   "cell_type": "markdown",
   "metadata": {
    "collapsed": true
   },
   "source": [
    "### Tuples"
   ]
  },
  {
   "cell_type": "markdown",
   "metadata": {},
   "source": [
    "Pretty much anything you can do with a list, that doesn’t involve modifying it,  you can do with tuples. You can specify a tuple without anything, just values separated by commas, but you do have the option of putting parenthesis."
   ]
  },
  {
   "cell_type": "code",
   "execution_count": 28,
   "metadata": {
    "collapsed": false
   },
   "outputs": [
    {
     "name": "stdout",
     "output_type": "stream",
     "text": [
      "list[0:2]:  [23, 46]\n"
     ]
    }
   ],
   "source": [
    "a_list = [23, 45]   # create new list\n",
    "a_tuple = (3, 4)   # created new tuple\n",
    "\n",
    "\n",
    "a_list[1] = 46   # you have changed the the list to [23, 46] \n",
    "print \"list[0:2]: \", a_list[0:2]\n",
    "\n",
    "# now try this on a tuple\n"
   ]
  },
  {
   "cell_type": "markdown",
   "metadata": {},
   "source": [
    "#### Accessing/Deleting tuples"
   ]
  },
  {
   "cell_type": "markdown",
   "metadata": {},
   "source": [
    "You can access individual elements in tuples but you can’t delete individual elements in a tuple"
   ]
  },
  {
   "cell_type": "code",
   "execution_count": 36,
   "metadata": {
    "collapsed": false
   },
   "outputs": [
    {
     "name": "stdout",
     "output_type": "stream",
     "text": [
      "Leonardo Dicaprio has won 0 oscars\n"
     ]
    }
   ],
   "source": [
    "your_tuple = (\"Leonardo Dicaprio\", \"oscars\");\n",
    "my_tuple =  (0, 1, 2, 3, 4);\n",
    "\n",
    "print '{0} has won {1} {2}'  .format(your_tuple[0] , my_tuple[0], your_tuple[1])"
   ]
  },
  {
   "cell_type": "code",
   "execution_count": null,
   "metadata": {
    "collapsed": false
   },
   "outputs": [],
   "source": [
    "2"
   ]
  },
  {
   "cell_type": "code",
   "execution_count": null,
   "metadata": {
    "collapsed": true
   },
   "outputs": [],
   "source": []
  }
 ],
 "metadata": {
  "kernelspec": {
   "display_name": "Python 2",
   "language": "python",
   "name": "python2"
  },
  "language_info": {
   "codemirror_mode": {
    "name": "ipython",
    "version": 2
   },
   "file_extension": ".py",
   "mimetype": "text/x-python",
   "name": "python",
   "nbconvert_exporter": "python",
   "pygments_lexer": "ipython2",
   "version": "2.7.11"
  }
 },
 "nbformat": 4,
 "nbformat_minor": 0
}
