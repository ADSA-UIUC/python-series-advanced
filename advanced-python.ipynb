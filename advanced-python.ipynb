{
 "cells": [
  {
   "cell_type": "markdown",
   "metadata": {},
   "source": [
    "![ADSA Logo](http://i.imgur.com/BV0CdHZ.png?2 \"ADSA Logo\")"
   ]
  },
  {
   "cell_type": "markdown",
   "metadata": {},
   "source": [
    "# Spring 2016 ADSA Workshop - Python Series: Advanced Python\n",
    "\n",
    "Workshop content adapted from:\n",
    "* http://python-3-patterns-idioms-test.readthedocs.org/\n",
    "* https://github.com/ehmatthes/intro_programming/\n",
    "* http://github.com/rasbt/python_reference/blob/master/tutorials/sorting_csvs.ipynb\n",
    "* http://www.engr.ucsb.edu/~shell/che210d/numpy.pdf"
   ]
  },
  {
   "cell_type": "markdown",
   "metadata": {},
   "source": [
    "This workshop is a continuation of last week's Introduction to Python workshop and will be focusing on the following topics:\n",
    "* Tuples\n",
    "* Functions\n",
    "* Standard Library Modules\n",
    "    * Math\n",
    "    * fileIO\n",
    "    * CSV\n",
    "* To-do List Project\n",
    "* List functions\n",
    "    * List Slicing\n",
    "    * List Comprehensions\n",
    "* Lambda Functions\n",
    "* Weather Reporting Project"
   ]
  },
  {
   "cell_type": "markdown",
   "metadata": {},
   "source": [
    "## Reviewing Workshop 1: Introduction to Python\n",
    "\n",
    "### Lists and Loops"
   ]
  },
  {
   "cell_type": "code",
   "execution_count": 18,
   "metadata": {
    "collapsed": false
   },
   "outputs": [
    {
     "name": "stdout",
     "output_type": "stream",
     "text": [
      "['Eric Idle', 'John Cleese', 'Albert Fry']\n"
     ]
    }
   ],
   "source": [
    "awesome_people = [\"Eric Idle\", \"John Cleese\", \"Albert Fry\"]\n",
    "print awesome_people"
   ]
  },
  {
   "cell_type": "code",
   "execution_count": 19,
   "metadata": {
    "collapsed": false
   },
   "outputs": [
    {
     "name": "stdout",
     "output_type": "stream",
     "text": [
      "I am on iteration 0!\n",
      "I am on iteration 1!\n",
      "I am on iteration 2!\n",
      "I am on iteration 3!\n",
      "I am on iteration 4!\n"
     ]
    }
   ],
   "source": [
    "for number in range(0, 5):\n",
    "    print(\"I am on iteration {0}!\".format(number))"
   ]
  },
  {
   "cell_type": "markdown",
   "metadata": {},
   "source": [
    "### Functions\n",
    "\n",
    "#### Declaring Functions"
   ]
  },
  {
   "cell_type": "code",
   "execution_count": 20,
   "metadata": {
    "collapsed": true
   },
   "outputs": [],
   "source": [
    "# This function prints a two-line personalized thank you message.\n",
    "def promote(name):\n",
    "    # print() is also a function!\n",
    "    # It prints the string you give it onto the screen.\n",
    "    \n",
    "    print('Congratulations! You have been promoted, {0}!'.format(name))\n",
    "    print('You are now qualified to do Advanced Python\\n')"
   ]
  },
  {
   "cell_type": "markdown",
   "metadata": {},
   "source": [
    "We can now call the function we have just defined:"
   ]
  },
  {
   "cell_type": "code",
   "execution_count": 21,
   "metadata": {
    "collapsed": false
   },
   "outputs": [
    {
     "name": "stdout",
     "output_type": "stream",
     "text": [
      "Congratulations! You have been promoted, John!\n",
      "You are now qualified to do Advanced Python\n",
      "\n",
      "Congratulations! You have been promoted, Andrew!\n",
      "You are now qualified to do Advanced Python\n",
      "\n",
      "Congratulations! You have been promoted, ENTER_YOUR_NAME!\n",
      "You are now qualified to do Advanced Python\n",
      "\n"
     ]
    }
   ],
   "source": [
    "promote('John')\n",
    "promote('Andrew')\n",
    "promote('ENTER_YOUR_NAME')"
   ]
  },
  {
   "cell_type": "markdown",
   "metadata": {},
   "source": [
    "***\n",
    "## More on Functions\n",
    "\n",
    "### Passing by Reference\n",
    "\n",
    "All parameters in Python are passed by reference and so if you change the parameter inside a called function, the same change occurs in the calling function."
   ]
  },
  {
   "cell_type": "code",
   "execution_count": 23,
   "metadata": {
    "collapsed": false
   },
   "outputs": [
    {
     "name": "stdout",
     "output_type": "stream",
     "text": [
      "List before function:  [10, 20, 30]\n",
      "List inside the function:  [10, 20, 30, 99]\n",
      "List after the function:  [10, 20, 30, 99]\n"
     ]
    }
   ],
   "source": [
    "def addtolist(ls):\n",
    "    #This changes a passed list into this function by adding values to it\n",
    "    mylist.append(99)\n",
    "    print \"List inside the function: \", ls\n",
    "\n",
    "mylist = [10,20,30]\n",
    "print \"List before function: \", mylist\n",
    "addtolist(mylist)\n",
    "print \"List after the function: \", mylist"
   ]
  },
  {
   "cell_type": "markdown",
   "metadata": {},
   "source": [
    "***\n",
    "## Tuples\n",
    "\n",
    "Pretty much anything you can do with a list, that doesn’t involve modifying it, you can do with tuples. You can specify a tuple without anything, just values separated by commas, but you do have the option of putting parenthesis."
   ]
  },
  {
   "cell_type": "code",
   "execution_count": 27,
   "metadata": {
    "collapsed": false
   },
   "outputs": [
    {
     "name": "stdout",
     "output_type": "stream",
     "text": [
      "96\n",
      "hello\n"
     ]
    }
   ],
   "source": [
    "# create a tuple\n",
    "tup = 45, 96\n",
    "another_tup = ('hello', 'there')\n",
    "\n",
    "# accessing tuple elements\n",
    "print tup[1]\n",
    "print another_tup[0]"
   ]
  },
  {
   "cell_type": "code",
   "execution_count": 26,
   "metadata": {
    "collapsed": false
   },
   "outputs": [
    {
     "name": "stdout",
     "output_type": "stream",
     "text": [
      "a_list:  [23, 76]\n"
     ]
    },
    {
     "ename": "TypeError",
     "evalue": "'tuple' object does not support item assignment",
     "output_type": "error",
     "traceback": [
      "\u001b[1;31m---------------------------------------------------------------------------\u001b[0m",
      "\u001b[1;31mTypeError\u001b[0m                                 Traceback (most recent call last)",
      "\u001b[1;32m<ipython-input-26-c1c987ebb746>\u001b[0m in \u001b[0;36m<module>\u001b[1;34m()\u001b[0m\n\u001b[0;32m      6\u001b[0m \u001b[1;33m\u001b[0m\u001b[0m\n\u001b[0;32m      7\u001b[0m \u001b[1;31m# now try this on a tuple, will print an error\u001b[0m\u001b[1;33m\u001b[0m\u001b[1;33m\u001b[0m\u001b[0m\n\u001b[1;32m----> 8\u001b[1;33m \u001b[0ma_tuple\u001b[0m\u001b[1;33m[\u001b[0m\u001b[1;36m0\u001b[0m\u001b[1;33m]\u001b[0m \u001b[1;33m=\u001b[0m \u001b[1;36m33\u001b[0m\u001b[1;33m\u001b[0m\u001b[0m\n\u001b[0m",
      "\u001b[1;31mTypeError\u001b[0m: 'tuple' object does not support item assignment"
     ]
    }
   ],
   "source": [
    "a_list = [23, 45]   # create new list\n",
    "a_tuple = (3, 4)   # created new tuple\n",
    "\n",
    "a_list[1] = 76   # you have changed the the list to [23, 46] \n",
    "print \"a_list: \", a_list\n",
    "\n",
    "# now try modifying a tuple, will print an error\n",
    "a_tuple[0] = 33"
   ]
  },
  {
   "cell_type": "markdown",
   "metadata": {},
   "source": [
    "An important property about tuples, unlike lists, is that they are **immutable**. You can create new tuples freely, but you cannot modify existing tuples."
   ]
  },
  {
   "cell_type": "markdown",
   "metadata": {},
   "source": [
    "***\n",
    "## Standard Library Modules\n",
    "\n",
    "Python comes \"batteries loaded\". This means that Python comes with a lot of prewritten code that is called the standard library. This library is very extensive, and offers a lot of modules and classes to accomplish a wide range of tasks.\n",
    "\n",
    "All of the modules in Python 2.7's Standard Library are listed in the official documentation at https://docs.python.org/2/library/index.html. To use any of these modules, you need to import them or the specific functions in them:\n",
    "\n",
    "    import math\n",
    "    # or\n",
    "    from math import factorial, log\n",
    "\n",
    "### Python `math`\n",
    "\n",
    "Let's have a look at the `math` module."
   ]
  },
  {
   "cell_type": "code",
   "execution_count": 29,
   "metadata": {
    "collapsed": false
   },
   "outputs": [
    {
     "name": "stdout",
     "output_type": "stream",
     "text": [
      "3.74165738677\n",
      "1.22464679915e-16\n"
     ]
    }
   ],
   "source": [
    "import math\n",
    "\n",
    "mynum = 14\n",
    "print math.sqrt(mynum)\n",
    "\n",
    "# math.pi is a constant in the math module\n",
    "print math.sin(math.pi) # should be almost 0"
   ]
  },
  {
   "cell_type": "markdown",
   "metadata": {},
   "source": [
    "### File I/O\n",
    "\n",
    "It is very useful to know how to read and write files in Python. A lot of datasets are distributed in files, and to use the data in them we need to be able to read them.\n",
    "\n",
    "Below we will go over some of the basics with I/O. When loading and saving files you can specify the entire filepath or just relative to the current working directory."
   ]
  },
  {
   "cell_type": "code",
   "execution_count": 31,
   "metadata": {
    "collapsed": false
   },
   "outputs": [
    {
     "name": "stdout",
     "output_type": "stream",
     "text": [
      "The file has been written\n"
     ]
    }
   ],
   "source": [
    "# writes a simple statement to a text file\n",
    "filepath = 'simple.txt'\n",
    "\n",
    "# opens the file. 'w' signifies we want to write to it.\n",
    "f = open(filepath, 'w')\n",
    "# 'w' erases existing file; use 'a' to append to an existing file\n",
    "\n",
    "f.write('This is a simple example.\\n')\n",
    "f.close()\n",
    "print 'The file has been written'"
   ]
  },
  {
   "cell_type": "markdown",
   "metadata": {},
   "source": [
    "Likewise we can load text files using the `read()` function."
   ]
  },
  {
   "cell_type": "code",
   "execution_count": 32,
   "metadata": {
    "collapsed": false
   },
   "outputs": [
    {
     "name": "stdout",
     "output_type": "stream",
     "text": [
      "This is a simple example.\n",
      "\n"
     ]
    }
   ],
   "source": [
    "filepath = 'simple.txt'\n",
    "# opens the file, default behavior is to read (not write)\n",
    "f = open(filepath) # default parameter is 'r' for read\n",
    "print f.read() # reads the text file\n",
    "f.close()"
   ]
  },
  {
   "cell_type": "markdown",
   "metadata": {},
   "source": [
    "### CSV Files\n",
    "\n",
    "The CSV (Comma Separated Values) format is the most common import and export format for spreadsheets and databases. Although there is no standard for how the data is formatted, the generally followed format is like so:\n",
    "\n",
    "    column1_title, column2_title, column3_title\n",
    "    row1_data1, row1_data2, row1_data3\n",
    "    row2_data1, row2_data2, row2_data3\n",
    "    ...\n",
    "\n",
    "While the delimiters and quoting characters vary, the overall format is similar enough for easy parsing using the csv module.\n",
    "In the data folder, there is a test.csv file with the following contents:\n",
    "\n",
    "    name,column1,column2,column3\n",
    "    abc,1.1,4.2,1.2\n",
    "    def,2.1,1.4,5.2\n",
    "    ghi,1.5,1.2,2.1\n",
    "    jkl,1.8,1.1,4.2\n",
    "    mno,9.4,6.6,6.2\n",
    "    pqr,1.4,8.3,8.4\n",
    "\n",
    "Let's see how to parse the file and read the first few lines."
   ]
  },
  {
   "cell_type": "code",
   "execution_count": null,
   "metadata": {
    "collapsed": true
   },
   "outputs": [],
   "source": []
  },
  {
   "cell_type": "markdown",
   "metadata": {
    "collapsed": true
   },
   "source": [
    "***\n",
    "## Important functions using lists\n",
    "\n",
    "Lists are so common in Python that it is very useful to know how to do some basic tasks with it. These include slicing, merging, and generating lists."
   ]
  },
  {
   "cell_type": "markdown",
   "metadata": {},
   "source": [
    "### Slicing\n",
    "List slicing allows you to select sections of the list. It can be thought of as an enchanced indexing method.\n",
    "![List Slicing Image](http://www.nltk.org/images/string-slicing.png)\n",
    "\n",
    "Slicing uses the syntax `mylist[start:end]` and the resulting list will include elements from `start` to (but not including) `end`. Here's an example to illustrate this."
   ]
  },
  {
   "cell_type": "code",
   "execution_count": 2,
   "metadata": {
    "collapsed": false
   },
   "outputs": [
    {
     "name": "stdout",
     "output_type": "stream",
     "text": [
      "Pyth\n"
     ]
    }
   ],
   "source": [
    "# to select 4 elements of a string starting from index 6\n",
    "\n",
    "seq = 'Monty Python'\n",
    "print seq[6:10]"
   ]
  },
  {
   "cell_type": "markdown",
   "metadata": {},
   "source": [
    "To select everything until a particular index, we can omit the `start` number."
   ]
  },
  {
   "cell_type": "code",
   "execution_count": 3,
   "metadata": {
    "collapsed": false
   },
   "outputs": [
    {
     "name": "stdout",
     "output_type": "stream",
     "text": [
      "Monty\n"
     ]
    }
   ],
   "source": [
    "print seq[:5]"
   ]
  },
  {
   "cell_type": "markdown",
   "metadata": {},
   "source": [
    "Similarly we can omit the `end` number to select everything until the end."
   ]
  },
  {
   "cell_type": "code",
   "execution_count": 4,
   "metadata": {
    "collapsed": false
   },
   "outputs": [
    {
     "name": "stdout",
     "output_type": "stream",
     "text": [
      "ython\n"
     ]
    }
   ],
   "source": [
    "print seq[7:]"
   ]
  },
  {
   "cell_type": "markdown",
   "metadata": {},
   "source": [
    "We can also use negative indices to select from the end."
   ]
  },
  {
   "cell_type": "code",
   "execution_count": 5,
   "metadata": {
    "collapsed": false
   },
   "outputs": [
    {
     "name": "stdout",
     "output_type": "stream",
     "text": [
      "onty Py\n"
     ]
    }
   ],
   "source": [
    "print seq[-11:-4]"
   ]
  },
  {
   "cell_type": "markdown",
   "metadata": {},
   "source": [
    "To skip every set number of elements, we can provide a step parameter."
   ]
  },
  {
   "cell_type": "code",
   "execution_count": 8,
   "metadata": {
    "collapsed": false
   },
   "outputs": [
    {
     "name": "stdout",
     "output_type": "stream",
     "text": [
      "nyPto\n"
     ]
    }
   ],
   "source": [
    "print seq[2:11:2]"
   ]
  },
  {
   "cell_type": "markdown",
   "metadata": {},
   "source": [
    "### Sorting Lists"
   ]
  },
  {
   "cell_type": "markdown",
   "metadata": {},
   "source": [
    "There are two ways to sort lists. We can either modify the list itself to make it sorted. Or we can return a new sorted list, thus preserving the order of the original list."
   ]
  },
  {
   "cell_type": "code",
   "execution_count": 9,
   "metadata": {
    "collapsed": false
   },
   "outputs": [
    {
     "name": "stdout",
     "output_type": "stream",
     "text": [
      "[1, 3, 5, 6, 7, 9]\n"
     ]
    }
   ],
   "source": [
    "# in-place sorting\n",
    "seq = [1, 5, 3, 9, 7, 6]\n",
    "seq.sort()\n",
    "print seq"
   ]
  },
  {
   "cell_type": "code",
   "execution_count": 10,
   "metadata": {
    "collapsed": false
   },
   "outputs": [
    {
     "name": "stdout",
     "output_type": "stream",
     "text": [
      "[1, 3, 5, 6, 7, 9]\n"
     ]
    }
   ],
   "source": [
    "# return a new list that is sorted\n",
    "seq = [1, 5, 3, 9, 7, 6]\n",
    "newseq = sorted(seq)\n",
    "print newseq"
   ]
  },
  {
   "cell_type": "markdown",
   "metadata": {},
   "source": [
    "You can also specify how you want to sort lists based on the `key` parameter. So if we want to sort it by length, we can do something like this."
   ]
  },
  {
   "cell_type": "code",
   "execution_count": 12,
   "metadata": {
    "collapsed": false
   },
   "outputs": [
    {
     "name": "stdout",
     "output_type": "stream",
     "text": [
      "['wow', 'hello', 'python', 'technology']\n"
     ]
    }
   ],
   "source": [
    "seq = ['hello', 'wow', 'technology', 'python']\n",
    "seq.sort(key=len)\n",
    "print seq"
   ]
  },
  {
   "cell_type": "markdown",
   "metadata": {},
   "source": [
    "### Pairing list elements using `zip`\n",
    "If we have multiple lists and we want to pair them up into a single list, we can use zip."
   ]
  },
  {
   "cell_type": "code",
   "execution_count": 14,
   "metadata": {
    "collapsed": false
   },
   "outputs": [
    {
     "name": "stdout",
     "output_type": "stream",
     "text": [
      "[(1, 'foo'), (2, 'bar'), (3, 'baz')]\n"
     ]
    }
   ],
   "source": [
    "seq_1 = [1, 2, 3]\n",
    "seq_2 = ['foo', 'bar', 'baz']\n",
    "zipped_seq = zip(seq_1, seq_2)\n",
    "print zipped_seq"
   ]
  },
  {
   "cell_type": "markdown",
   "metadata": {},
   "source": [
    "The elements of the zipped list are tuples."
   ]
  },
  {
   "cell_type": "code",
   "execution_count": 15,
   "metadata": {
    "collapsed": false
   },
   "outputs": [
    {
     "name": "stdout",
     "output_type": "stream",
     "text": [
      "(1, 'foo')\n"
     ]
    }
   ],
   "source": [
    "print zipped_seq[0]"
   ]
  },
  {
   "cell_type": "markdown",
   "metadata": {},
   "source": [
    "### List Comprehensions\n",
    "List comprehensions are one of the best features of Python's list. They allow you to generate new lists using syntax that is very similar to English.\n",
    "\n",
    "List comprehensions concisely form a new list by filtering the elements of a sequence and transforming the elements passing the filter. List comprehensions take the form:\n",
    "\n",
    "    [expr for val in collection if condition]\n",
    "\n",
    "![List Comprehension figure](http://python-3-patterns-idioms-test.readthedocs.org/en/latest/_images/listComprehensions.gif)\n",
    "\n",
    "Which is equivalent to the following for loop:\n",
    "\n",
    "    result = []\n",
    "    for val in collection:\n",
    "        if condition:\n",
    "            result.append(expr)\n",
    "\n",
    "Here's an example that converts to upper case all strings that start with a 'b':"
   ]
  },
  {
   "cell_type": "code",
   "execution_count": 17,
   "metadata": {
    "collapsed": false
   },
   "outputs": [
    {
     "name": "stdout",
     "output_type": "stream",
     "text": [
      "[1, 16, 81, 9, 0, 16]\n"
     ]
    }
   ],
   "source": [
    "a_list = [1, 4, 9, 3, 0, 4]\n",
    "squared_ints = [e**2 for e in a_list]\n",
    "print squared_ints"
   ]
  },
  {
   "cell_type": "code",
   "execution_count": 16,
   "metadata": {
    "collapsed": false
   },
   "outputs": [
    {
     "name": "stdout",
     "output_type": "stream",
     "text": [
      "['BAR', 'BAZ', 'B', 'BA']\n"
     ]
    }
   ],
   "source": [
    "strings = ['foo', 'bar', 'baz', 'f', 'fo', 'b', 'ba']\n",
    "newlist = [x.upper() for x in strings if x[0] == 'b']\n",
    "print newlist"
   ]
  },
  {
   "cell_type": "markdown",
   "metadata": {},
   "source": [
    "***\n",
    "## Lambda Functions"
   ]
  },
  {
   "cell_type": "code",
   "execution_count": null,
   "metadata": {
    "collapsed": true
   },
   "outputs": [],
   "source": []
  }
 ],
 "metadata": {
  "kernelspec": {
   "display_name": "Python 2",
   "language": "python",
   "name": "python2"
  },
  "language_info": {
   "codemirror_mode": {
    "name": "ipython",
    "version": 2
   },
   "file_extension": ".py",
   "mimetype": "text/x-python",
   "name": "python",
   "nbconvert_exporter": "python",
   "pygments_lexer": "ipython2",
   "version": "2.7.11"
  }
 },
 "nbformat": 4,
 "nbformat_minor": 0
}
